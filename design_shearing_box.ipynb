{
 "cells": [
  {
   "cell_type": "markdown",
   "metadata": {},
   "source": [
    "# design a shearing box for athena++\n",
    "\n",
    "\n",
    "## 0. variables to be updated are: \n",
    "  1. Hydro u(NHYDRO)  \n",
    "  2. face centered B [b.x1f, b.x2f, b.x3f]\n",
    "  3. EMF at edges X1E2,X1E3 [(e.x2e,e.x3e),~~(e.x1e,e.x3e),(e.x1e,e.x2e)~~] and \n",
    "  4. Flux correction [flux[x1face],~~flux[x2face],flux[x3face]~~]\n",
    "  \n",
    "For now, consider 1 and 2 only and leave EMF and Flux correction for later implementation."
   ]
  },
  {
   "cell_type": "markdown",
   "metadata": {
    "collapsed": true
   },
   "source": [
    "## 1. Load ghost zones need to be sheared ( use INNER_X1 as an example in the following)\n",
    "\n",
    "define ShearingBoxNeighborBlock  &nb = pmb->shearingbox_ix1   &nb = pm->shearingbox_ox1   in athena.hpp\n",
    "\n",
    "set blocks in mesh.cpp\\/setandsearchblocks    \n",
    "\n"
   ]
  },
  {
   "cell_type": "code",
   "execution_count": null,
   "metadata": {
    "collapsed": true
   },
   "outputs": [],
   "source": [
    "for l = 0,1 {\n",
    "\n",
    "for n = 0, num_shearingbox\\_blocks, n++{\n",
    "\n",
    "  CreatMPITag(pmb->lid,l,tag_shearingbox,n\n",
    "  \n",
    "  MPI_Send_init(shearingbox\\_send_     \n",
    "     \\[nb.bufid],ssize,MPI_ATHENA_REAL,nb.rank,tag,MPI_COMM_WORLD,&req_shearingbox_send_[nb.bufid]\n",
    "                \n",
    "                \n",
    "                \n",
    "                \n",
    "                "
   ]
  }
 ],
 "metadata": {
  "kernelspec": {
   "display_name": "Python 2",
   "language": "python",
   "name": "python2"
  },
  "language_info": {
   "codemirror_mode": {
    "name": "ipython",
    "version": 2
   },
   "file_extension": ".py",
   "mimetype": "text/x-python",
   "name": "python",
   "nbconvert_exporter": "python",
   "pygments_lexer": "ipython2",
   "version": "2.7.11"
  }
 },
 "nbformat": 4,
 "nbformat_minor": 0
}
