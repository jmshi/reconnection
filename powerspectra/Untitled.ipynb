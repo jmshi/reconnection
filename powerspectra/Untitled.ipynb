{
 "cells": [
  {
   "cell_type": "code",
   "execution_count": 8,
   "metadata": {
    "collapsed": false
   },
   "outputs": [
    {
     "name": "stdout",
     "output_type": "stream",
     "text": [
      "[0 1 2 3 4 5 6 7 8 9]\n",
      "0 is doing stuff\n",
      "1 is doing stuff\n",
      "0 is doing stuff\n",
      "2 is doing stuff\n",
      "0 is doing stuff1 is doing stuff\n",
      "\n",
      "3 is doing stuff\n",
      "0 is doing stuff1 is doing stuff2 is doing stuff\n",
      "\n",
      "\n",
      "0 is doing stuff4 is doing stuff\n",
      "1 is doing stuff2 is doing stuff3 is doing stuff\n",
      "\n",
      "\n",
      "\n",
      "0 is doing stuff3 is doing stuff5 is doing stuff\n",
      "2 is doing stuff1 is doing stuff4 is doing stuff\n",
      "\n",
      "\n",
      "\n",
      "\n",
      "0 is doing stuff3 is doing stuff2 is doing stuff6 is doing stuff\n",
      "1 is doing stuff4 is doing stuff5 is doing stuff\n",
      "\n",
      "\n",
      "\n",
      "\n",
      "\n",
      "0 is doing stuff3 is doing stuff5 is doing stuff4 is doing stuff2 is doing stuff1 is doing stuff7 is doing stuff\n",
      "6 is doing stuff\n",
      "\n",
      "\n",
      "\n",
      "\n",
      "\n",
      "\n",
      "0 is doing stuff3 is doing stuff5 is doing stuff4 is doing stuff2 is doing stuff1 is doing stuff8 is doing stuff\n",
      "6 is doing stuff7 is doing stuff\n",
      "\n",
      "\n",
      "\n",
      "\n",
      "\n",
      "\n",
      "\n",
      "done!\n",
      "[0 1 2 3 4 5 6 7 8 9]\n",
      "3 is doing stuff0 is doing stuff6 is doing stuff5 is doing stuff2 is doing stuff1 is doing stuff4 is doing stuff9 is doing stuff\n",
      "7 is doing stuff8 is doing stuff\n",
      "\n",
      "\n",
      "\n",
      "\n",
      "\n",
      "\n",
      "9 quit\n",
      "\n",
      "3 quit0 quit6 quit5 quit2 quit1 quit4 quit\n",
      "7 quit8 quit\n",
      "\n",
      "\n",
      "\n",
      "\n",
      "\n",
      "\n",
      "\n",
      "\n"
     ]
    }
   ],
   "source": [
    "import multiprocessing\n",
    "import time\n",
    "import numpy as np\n",
    "\n",
    "a = np.arange(10)\n",
    "print a\n",
    "\n",
    "kill_event = multiprocessing.Event()\n",
    "\n",
    "def work(_id):\n",
    "    while not kill_event.is_set():\n",
    "        print \"%d is doing stuff\" % _id\n",
    "        a[_id] += 1\n",
    "        time.sleep(1)\n",
    "    print \"%d quit\" % _id\n",
    "\n",
    "def spawn_processes():\n",
    "    processes = []\n",
    "\n",
    "    # spawn 10 processes\n",
    "    for i in np.arange(10):\n",
    "        # spawn process\n",
    "        process = multiprocessing.Process(target=work, args=(i,))\n",
    "        processes.append(process)\n",
    "        process.start()\n",
    "        time.sleep(1)\n",
    "\n",
    "    # kill all processes by setting the kill event\n",
    "    kill_event.set()\n",
    "\n",
    "    # wait for all processes to complete\n",
    "    for process in processes:\n",
    "        process.join()\n",
    "\n",
    "    print \"done!\"\n",
    "spawn_processes()\n",
    "\n",
    "print a"
   ]
  },
  {
   "cell_type": "code",
   "execution_count": 17,
   "metadata": {
    "collapsed": false
   },
   "outputs": [
    {
     "name": "stdout",
     "output_type": "stream",
     "text": [
      "<type 'complex'>\n"
     ]
    }
   ],
   "source": [
    "a=1+1j\n",
    "print type(a)\n",
    "a= np.real(a)"
   ]
  },
  {
   "cell_type": "code",
   "execution_count": 16,
   "metadata": {
    "collapsed": false
   },
   "outputs": [
    {
     "data": {
      "text/plain": [
       "numpy.ndarray"
      ]
     },
     "execution_count": 16,
     "metadata": {},
     "output_type": "execute_result"
    }
   ],
   "source": [
    "type(a)"
   ]
  },
  {
   "cell_type": "code",
   "execution_count": null,
   "metadata": {
    "collapsed": true
   },
   "outputs": [],
   "source": []
  }
 ],
 "metadata": {
  "kernelspec": {
   "display_name": "Python [default]",
   "language": "python",
   "name": "python2"
  },
  "language_info": {
   "codemirror_mode": {
    "name": "ipython",
    "version": 2
   },
   "file_extension": ".py",
   "mimetype": "text/x-python",
   "name": "python",
   "nbconvert_exporter": "python",
   "pygments_lexer": "ipython2",
   "version": "2.7.12"
  }
 },
 "nbformat": 4,
 "nbformat_minor": 0
}
