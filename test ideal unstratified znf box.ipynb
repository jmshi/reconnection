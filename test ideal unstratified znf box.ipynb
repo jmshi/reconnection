{
 "cells": [
  {
   "cell_type": "markdown",
   "metadata": {},
   "source": [
    "### x2y4z1  $1024\\times2048\\times518$ with meshblock size $64\\times64\\times74$ <br>\n",
    "initial $\\beta=100$,  $c_s = \\Omega = 1.0$, $1\\%$ perturbation in density and velocities  <br>\n",
    "$5\\times 10^5$ zone-cycles / core / second  with gcc 4.8.5 with options -march=native -ffast-math <br>on Perseus using 128 nodes (3584 cores) "
   ]
  },
  {
   "cell_type": "markdown",
   "metadata": {},
   "source": [
    "<img src=\"figure/x2y4z1r512/By0009.png\" style=\"width:450px; height:420px;  float:left;\" />\n",
    "<img src=\"figure/x2y4z1r512/By0000.png\" style=\"width:450px; height:420px;  float:left;\" />\n",
    "<img src=\"figure/x2y4z1r512/By0002.png\" style=\"width:450px; height:420px;  float:left;\" />\n",
    "<img src=\"figure/x2y4z1r512/By0003.png\" style=\"width:450px; height:420px;  float:left;\" />\n",
    "<img src=\"figure/x2y4z1r512/By0004.png\" style=\"width:450px; height:420px;  float:left;\" />\n",
    "<img src=\"figure/x2y4z1r512/By0005.png\" style=\"width:450px; height:420px;  float:left;\" />\n",
    "<img src=\"figure/x2y4z1r512/By0006.png\" style=\"width:450px; height:420px;  float:left;\" />\n",
    "<img src=\"figure/x2y4z1r512/By0007.png\" style=\"width:450px; height:420px;  float:left;\" />\n",
    "<img src=\"figure/x2y4z1r512/By0008.png\" style=\"width:450px; height:420px;  float:left;\" />"
   ]
  },
  {
   "cell_type": "markdown",
   "metadata": {},
   "source": [
    "<img src=\"figure/x2y4z1r512/dVy0009.png\" style=\"width:450px; height:420px;  float:left;\" />\n",
    "<img src=\"figure/x2y4z1r512/dVy0000.png\" style=\"width:450px; height:420px;  float:left;\" />\n",
    "<img src=\"figure/x2y4z1r512/dVy0001.png\" style=\"width:450px; height:420px;  float:left;\" />\n",
    "<img src=\"figure/x2y4z1r512/dVy0002.png\" style=\"width:450px; height:420px;  float:left;\" />\n",
    "<img src=\"figure/x2y4z1r512/dVy0003.png\" style=\"width:450px; height:420px;  float:left;\" />\n",
    "<img src=\"figure/x2y4z1r512/dVy0004.png\" style=\"width:450px; height:420px;  float:left;\" />\n",
    "<img src=\"figure/x2y4z1r512/dVy0005.png\" style=\"width:450px; height:420px;  float:left;\" />\n",
    "<img src=\"figure/x2y4z1r512/dVy0006.png\" style=\"width:450px; height:420px;  float:left;\" />\n",
    "<img src=\"figure/x2y4z1r512/dVy0007.png\" style=\"width:450px; height:420px;  float:left;\" />"
   ]
  },
  {
   "cell_type": "markdown",
   "metadata": {},
   "source": [
    "At t= 8 orbits,  \n",
    "$\\langle B_y\\rangle \\sim 4.7\\times 10^{-6}$,  <br>\n",
    "$\\langle B_z \\rangle \\sim 6.3\\times 10^{-14}$, <br>\n",
    "$\\langle B_x\\rangle \\sim -6.9\\times 10^{-11}$. <br>\n",
    "\n",
    "Maxwell stress $-\\langle B_xB_y\\rangle/4\\pi\\simeq 0.031$ <br>\n",
    "Reynolds stress $\\langle\\rho v_x\\delta v_y\\rangle \\simeq 0.0047$"
   ]
  },
  {
   "cell_type": "markdown",
   "metadata": {},
   "source": [
    "###  Vertical (red) and Radial (green) density profiles at t= 8, 7, 6 and 5 orbits\n",
    "\n",
    "No signs of minimum density near the center region of the box\n",
    "<br>\n",
    "<img src=\"figure/x2y4z1r512/d_prof.png\" style=\"width:225px; height:210px;  float:left;\" />\n",
    "<img src=\"figure/x2y4z1r512/d_prof_t6.png\" style=\"width:225px; height:210px;  float:left;\" />\n",
    "<img src=\"figure/x2y4z1r512/d_prof_t5.png\" style=\"width:225px; height:210px;  float:left;\" />\n",
    "<img src=\"figure/x2y4z1r512/d_prof_t7.png\" style=\"width:225px; height:210px;  float:left;\" />"
   ]
  },
  {
   "cell_type": "code",
   "execution_count": null,
   "metadata": {
    "collapsed": true
   },
   "outputs": [],
   "source": []
  }
 ],
 "metadata": {
  "kernelspec": {
   "display_name": "Python 2",
   "language": "python",
   "name": "python2"
  },
  "language_info": {
   "codemirror_mode": {
    "name": "ipython",
    "version": 2
   },
   "file_extension": ".py",
   "mimetype": "text/x-python",
   "name": "python",
   "nbconvert_exporter": "python",
   "pygments_lexer": "ipython2",
   "version": "2.7.12"
  }
 },
 "nbformat": 4,
 "nbformat_minor": 0
}
