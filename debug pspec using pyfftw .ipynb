{
 "cells": [
  {
   "cell_type": "code",
   "execution_count": 1,
   "metadata": {
    "collapsed": false
   },
   "outputs": [
    {
     "data": {
      "text/plain": [
       "True"
      ]
     },
     "execution_count": 1,
     "metadata": {},
     "output_type": "execute_result"
    }
   ],
   "source": [
    "import pyfftw\n",
    "import numpy\n",
    "a = pyfftw.empty_aligned(128, dtype='complex128', n=16)\n",
    "a[:] = numpy.random.randn(128) + 1j*numpy.random.randn(128)\n",
    "b = pyfftw.interfaces.numpy_fft.fft(a)\n",
    "c = numpy.fft.fft(a)\n",
    "numpy.allclose(b, c)"
   ]
  },
  {
   "cell_type": "code",
   "execution_count": 12,
   "metadata": {
    "collapsed": false
   },
   "outputs": [
    {
     "name": "stdout",
     "output_type": "stream",
     "text": [
      "time =  50.2654835891\n",
      "array bx size:  8  Gb\n"
     ]
    },
    {
     "data": {
      "text/plain": [
       "array([-1.        , -0.99804688, -0.99609375, ...,  0.99609375,\n",
       "        0.99804688,  1.        ])"
      ]
     },
     "execution_count": 12,
     "metadata": {},
     "output_type": "execute_result"
    }
   ],
   "source": [
    "%matplotlib inline\n",
    "#%pylab inline\n",
    "import matplotlib\n",
    "import numpy as np\n",
    "import matplotlib.pyplot as plt\n",
    "#import athena4_read as ath\n",
    "import athena_read\n",
    "from shwave import cn4, cn5\n",
    "import time\n",
    "\n",
    "time, data = athena_read.athdf('Unstra.out2.00008.athdf',quantities=['Bcc1'])\n",
    "bx = data['Bcc1']\n",
    "x = data['x1f']; y = data['x2f']; z = data['x3f']\n",
    "print 'array bx size: ', bx.nbytes/(1024**3), ' Gb'\n",
    "data['x1f']"
   ]
  },
  {
   "cell_type": "code",
   "execution_count": 23,
   "metadata": {
    "collapsed": false
   },
   "outputs": [],
   "source": [
    "import pyfftw\n",
    "\n",
    "tmp = np.resize(data['Bcc1'],(518/4,2048/4,1024/4))\n",
    "a = pyfftw.empty_aligned((518/4,2048/4,1024/4), dtype='complex128')\n",
    "a[:] = tmp #+ 1j*np.zeros([518,2048,1024])\n",
    "fft_object = pyfftw.builders.fft(a)\n",
    "b = fft_object()\n",
    "b = np.real(b*np.conj(b))"
   ]
  },
  {
   "cell_type": "code",
   "execution_count": 24,
   "metadata": {
    "collapsed": false
   },
   "outputs": [],
   "source": [
    "from scipy import fftpack\n",
    "\n",
    "\n",
    "# Generate some data\n",
    "c = fftpack.fftn(tmp)\n",
    "c = np.real(c*np.conj(c))"
   ]
  },
  {
   "cell_type": "code",
   "execution_count": 32,
   "metadata": {
    "collapsed": false
   },
   "outputs": [
    {
     "name": "stdout",
     "output_type": "stream",
     "text": [
      "229323579956.0 3.12527510727e-08 471799.64474\n",
      "4342.38363096 1.58648024527e-12 7.14328434987\n"
     ]
    }
   ],
   "source": [
    "print c.max(),c.min(),np.average(c)\n",
    "print b.max(),b.min(),np.average(b)\n",
    "#plt.imshow(c[64,...])"
   ]
  },
  {
   "cell_type": "code",
   "execution_count": 13,
   "metadata": {
    "collapsed": false
   },
   "outputs": [
    {
     "data": {
      "text/plain": [
       "(518, 2048, 1024)"
      ]
     },
     "execution_count": 13,
     "metadata": {},
     "output_type": "execute_result"
    }
   ],
   "source": [
    "data['Bcc1'].shape"
   ]
  },
  {
   "cell_type": "code",
   "execution_count": 18,
   "metadata": {
    "collapsed": false
   },
   "outputs": [
    {
     "data": {
      "text/plain": [
       "(129, 512, 256)"
      ]
     },
     "execution_count": 18,
     "metadata": {},
     "output_type": "execute_result"
    }
   ],
   "source": [
    "b.shape"
   ]
  },
  {
   "cell_type": "code",
   "execution_count": 33,
   "metadata": {
    "collapsed": false
   },
   "outputs": [
    {
     "data": {
      "text/plain": [
       "(129, 512, 256)"
      ]
     },
     "execution_count": 33,
     "metadata": {},
     "output_type": "execute_result"
    }
   ],
   "source": [
    "c.shape"
   ]
  },
  {
   "cell_type": "code",
   "execution_count": 37,
   "metadata": {
    "collapsed": false
   },
   "outputs": [
    {
     "name": "stdout",
     "output_type": "stream",
     "text": [
      "93850783486.7\n",
      "93850783486.7\n"
     ]
    }
   ],
   "source": [
    "print np.sum(c[:,510:-1,:])\n",
    "print np.sum(c[:,-2:-1,:])"
   ]
  },
  {
   "cell_type": "code",
   "execution_count": 38,
   "metadata": {
    "collapsed": true
   },
   "outputs": [],
   "source": [
    "a=np.arange(101)"
   ]
  },
  {
   "cell_type": "code",
   "execution_count": 39,
   "metadata": {
    "collapsed": false
   },
   "outputs": [
    {
     "data": {
      "text/plain": [
       "array([ 90,  91,  92,  93,  94,  95,  96,  97,  98,  99, 100])"
      ]
     },
     "execution_count": 39,
     "metadata": {},
     "output_type": "execute_result"
    }
   ],
   "source": [
    "a[90:]"
   ]
  },
  {
   "cell_type": "code",
   "execution_count": null,
   "metadata": {
    "collapsed": true
   },
   "outputs": [],
   "source": []
  }
 ],
 "metadata": {
  "anaconda-cloud": {},
  "kernelspec": {
   "display_name": "Python [default]",
   "language": "python",
   "name": "python2"
  },
  "language_info": {
   "codemirror_mode": {
    "name": "ipython",
    "version": 2
   },
   "file_extension": ".py",
   "mimetype": "text/x-python",
   "name": "python",
   "nbconvert_exporter": "python",
   "pygments_lexer": "ipython2",
   "version": "2.7.12"
  }
 },
 "nbformat": 4,
 "nbformat_minor": 1
}
